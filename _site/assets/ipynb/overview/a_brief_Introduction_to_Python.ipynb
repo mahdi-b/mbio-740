{
 "cells": [
  {
   "cell_type": "markdown",
   "metadata": {},
   "source": [
    "## First Steps\n",
    "\n",
    "Python is a general purpose programming language that supports rapid development of scripts and full-fledged applications.\n",
    "\n",
    "Python’s main advantages:\n",
    "\n",
    "- Easy learning curve\n",
    "- Open Source software, supported by Python Software Foundation\n",
    "- Supported on all platforms (including the $20 Raspberry pi)\n",
    "- It is a general-purpose programming language that is used in various fields\n",
    "- Very large community with a rich ecosystem of third-party packages \n",
    "\n",
    "\n",
    "Python is an interpreted language. You can think of it as an __advanced__ caclulator that reads and executes instruction that are passed in each Jupyter cell. We illustrate this concept using the tradiction \"Hello world\" example. \n"
   ]
  },
  {
   "cell_type": "code",
   "execution_count": 25,
   "metadata": {
    "collapsed": false
   },
   "outputs": [
    {
     "name": "stdout",
     "output_type": "stream",
     "text": [
      "Hello, world!\n"
     ]
    }
   ],
   "source": [
    "print \"Hello, world!\""
   ]
  },
  {
   "cell_type": "markdown",
   "metadata": {},
   "source": [
    "You instructed the Python interpret to print the characters \"Hello World.\" The interpreter \"Kindly\" obliged by displaying the string below the cell. We now illustrate the idea that Python can be thought of a sophisticated calculator using simple arithmetic operation below.\n"
   ]
  },
  {
   "cell_type": "code",
   "execution_count": 26,
   "metadata": {
    "collapsed": false
   },
   "outputs": [
    {
     "name": "stdout",
     "output_type": "stream",
     "text": [
      "1.29756097561\n"
     ]
    }
   ],
   "source": [
    "print (5.7 * 28 / 123)"
   ]
  },
  {
   "cell_type": "markdown",
   "metadata": {},
   "source": [
    "The commands we executed above are called __Expression__. In short, expressions are commands that return values. These values are automatically printed out by Jupyter and we, thefore, don't need to prefix them with the print command.  "
   ]
  },
  {
   "cell_type": "code",
   "execution_count": 10,
   "metadata": {
    "collapsed": false
   },
   "outputs": [
    {
     "data": {
      "text/plain": [
       "4"
      ]
     },
     "execution_count": 10,
     "metadata": {},
     "output_type": "execute_result"
    }
   ],
   "source": [
    "2 + 2"
   ]
  },
  {
   "cell_type": "code",
   "execution_count": 11,
   "metadata": {
    "collapsed": false
   },
   "outputs": [
    {
     "data": {
      "text/plain": [
       "2"
      ]
     },
     "execution_count": 11,
     "metadata": {},
     "output_type": "execute_result"
    }
   ],
   "source": [
    "abs(-2)"
   ]
  },
  {
   "cell_type": "markdown",
   "metadata": {},
   "source": [
    "As opposed to expression, comments, or lines starting with the # character -- are meant to document the code and are ignored by the Python interpreter"
   ]
  },
  {
   "cell_type": "code",
   "execution_count": 36,
   "metadata": {
    "collapsed": false
   },
   "outputs": [
    {
     "data": {
      "text/plain": [
       "9"
      ]
     },
     "execution_count": 36,
     "metadata": {},
     "output_type": "execute_result"
    }
   ],
   "source": [
    "# This is a comment\n",
    "# the command below computer the square of 3\n",
    "\n",
    "3**2\n"
   ]
  },
  {
   "cell_type": "markdown",
   "metadata": {},
   "source": [
    "All types of each variable is guessed by the Python interpreter. The basic types are int (integer), flaot (floating number), strings and Bool (True or False)."
   ]
  },
  {
   "cell_type": "code",
   "execution_count": 13,
   "metadata": {
    "collapsed": false
   },
   "outputs": [
    {
     "data": {
      "text/plain": [
       "int"
      ]
     },
     "execution_count": 13,
     "metadata": {},
     "output_type": "execute_result"
    }
   ],
   "source": [
    "type(1)"
   ]
  },
  {
   "cell_type": "code",
   "execution_count": 14,
   "metadata": {
    "collapsed": false
   },
   "outputs": [
    {
     "data": {
      "text/plain": [
       "float"
      ]
     },
     "execution_count": 14,
     "metadata": {},
     "output_type": "execute_result"
    }
   ],
   "source": [
    "type(26.2)"
   ]
  },
  {
   "cell_type": "code",
   "execution_count": 15,
   "metadata": {
    "collapsed": false
   },
   "outputs": [
    {
     "data": {
      "text/plain": [
       "str"
      ]
     },
     "execution_count": 15,
     "metadata": {},
     "output_type": "execute_result"
    }
   ],
   "source": [
    "type('hello world')"
   ]
  },
  {
   "cell_type": "code",
   "execution_count": 35,
   "metadata": {
    "collapsed": false
   },
   "outputs": [
    {
     "data": {
      "text/plain": [
       "False"
      ]
     },
     "execution_count": 35,
     "metadata": {},
     "output_type": "execute_result"
    }
   ],
   "source": [
    "3 > 4"
   ]
  },
  {
   "cell_type": "markdown",
   "metadata": {},
   "source": [
    "The variable types are important because they tell the program how to act."
   ]
  },
  {
   "cell_type": "code",
   "execution_count": 17,
   "metadata": {
    "collapsed": false
   },
   "outputs": [
    {
     "data": {
      "text/plain": [
       "'Hello World'"
      ]
     },
     "execution_count": 17,
     "metadata": {},
     "output_type": "execute_result"
    }
   ],
   "source": [
    "'Hello' + ' World'"
   ]
  },
  {
   "cell_type": "code",
   "execution_count": 18,
   "metadata": {
    "collapsed": false
   },
   "outputs": [
    {
     "data": {
      "text/plain": [
       "77"
      ]
     },
     "execution_count": 18,
     "metadata": {},
     "output_type": "execute_result"
    }
   ],
   "source": [
    " 75 + 2"
   ]
  },
  {
   "cell_type": "markdown",
   "metadata": {},
   "source": [
    "Types can also be ambiguous and confusing. "
   ]
  },
  {
   "cell_type": "code",
   "execution_count": 32,
   "metadata": {
    "collapsed": false
   },
   "outputs": [
    {
     "name": "stdout",
     "output_type": "stream",
     "text": [
      "7\n"
     ]
    }
   ],
   "source": [
    "# perform the floor, or integer, division.\n",
    "print 15 / 2"
   ]
  },
  {
   "cell_type": "code",
   "execution_count": 31,
   "metadata": {
    "collapsed": false
   },
   "outputs": [
    {
     "name": "stdout",
     "output_type": "stream",
     "text": [
      "7.5\n"
     ]
    }
   ],
   "source": [
    "# Forces true division such that a / b will return a fraction.\n",
    "print 15.0 / 2"
   ]
  },
  {
   "cell_type": "markdown",
   "metadata": {},
   "source": [
    "One needs to be explicit when performing ambigous operation."
   ]
  },
  {
   "cell_type": "code",
   "execution_count": 34,
   "metadata": {
    "collapsed": false
   },
   "outputs": [
    {
     "data": {
      "text/plain": [
       "'2 apples is always better than1 apple'"
      ]
     },
     "execution_count": 34,
     "metadata": {},
     "output_type": "execute_result"
    }
   ],
   "source": [
    "str(2) + \" apples is always better than\" + str(1) + \" apple\" "
   ]
  },
  {
   "cell_type": "markdown",
   "metadata": {},
   "source": [
    "In the above, we are converting the value of 1 to a string so that the interpreter know that we intend to concatenate, rather than compute the sum of strings and integers. Waht happens if you sum ints and string? Try it!"
   ]
  },
  {
   "cell_type": "markdown",
   "metadata": {},
   "source": [
    "## Variables & Assignment\n",
    "\n",
    "A variable is a name that has a value associated with it. You can assign a value to a variable name using the equals sign."
   ]
  },
  {
   "cell_type": "code",
   "execution_count": 40,
   "metadata": {
    "collapsed": false
   },
   "outputs": [],
   "source": [
    "tail_length_mm = 27"
   ]
  },
  {
   "cell_type": "markdown",
   "metadata": {},
   "source": [
    "On the left hand side of the equals is the name of the variable. On the right hand side is that value that is assigned to it.\n",
    "\n",
    "The variable name then works just like typing it's value."
   ]
  },
  {
   "cell_type": "code",
   "execution_count": 41,
   "metadata": {
    "collapsed": false
   },
   "outputs": [
    {
     "data": {
      "text/plain": [
       "27"
      ]
     },
     "execution_count": 41,
     "metadata": {},
     "output_type": "execute_result"
    }
   ],
   "source": [
    "tail_length_mm"
   ]
  },
  {
   "cell_type": "code",
   "execution_count": 42,
   "metadata": {
    "collapsed": false
   },
   "outputs": [
    {
     "data": {
      "text/plain": [
       "64"
      ]
     },
     "execution_count": 42,
     "metadata": {},
     "output_type": "execute_result"
    }
   ],
   "source": [
    "10 + tail_length_mm * 2"
   ]
  },
  {
   "cell_type": "raw",
   "metadata": {},
   "source": [
    "The value of the variable won't change unless you assign a new value to that variable."
   ]
  },
  {
   "cell_type": "code",
   "execution_count": 44,
   "metadata": {
    "collapsed": true
   },
   "outputs": [],
   "source": [
    "tail_length_mm = 14"
   ]
  },
  {
   "cell_type": "code",
   "execution_count": 45,
   "metadata": {
    "collapsed": false
   },
   "outputs": [
    {
     "data": {
      "text/plain": [
       "14"
      ]
     },
     "execution_count": 45,
     "metadata": {},
     "output_type": "execute_result"
    }
   ],
   "source": [
    "tail_length_mm"
   ]
  },
  {
   "cell_type": "markdown",
   "metadata": {},
   "source": [
    "In addition to being able to assign a literal, the value of one variable can also be assigned to another variable."
   ]
  },
  {
   "cell_type": "code",
   "execution_count": 47,
   "metadata": {
    "collapsed": false
   },
   "outputs": [
    {
     "data": {
      "text/plain": [
       "14"
      ]
     },
     "execution_count": 47,
     "metadata": {},
     "output_type": "execute_result"
    }
   ],
   "source": [
    "focal_tail_length = tail_length_mm\n",
    "focal_tail_length"
   ]
  },
  {
   "cell_type": "markdown",
   "metadata": {},
   "source": [
    "Or we can do a calculation with a variable and then assign it to a new variable."
   ]
  },
  {
   "cell_type": "code",
   "execution_count": 48,
   "metadata": {
    "collapsed": false
   },
   "outputs": [
    {
     "data": {
      "text/plain": [
       "1"
      ]
     },
     "execution_count": 48,
     "metadata": {},
     "output_type": "execute_result"
    }
   ],
   "source": [
    "mass_g = 1000\n",
    "mass_kg = mass_g / 1000\n",
    "mass_kg"
   ]
  },
  {
   "cell_type": "code",
   "execution_count": 49,
   "metadata": {
    "collapsed": false
   },
   "outputs": [
    {
     "name": "stdout",
     "output_type": "stream",
     "text": [
      "12\n"
     ]
    }
   ],
   "source": [
    "x = 10\n",
    "y = 2\n",
    "x_plus_y = x + y\n",
    "print(x_plus_y)"
   ]
  },
  {
   "cell_type": "code",
   "execution_count": 50,
   "metadata": {
    "collapsed": false
   },
   "outputs": [
    {
     "name": "stdout",
     "output_type": "stream",
     "text": [
      "300\n"
     ]
    }
   ],
   "source": [
    "population_size = 600\n",
    "half_population_size = population_size / 2\n",
    "population_size = 1000\n",
    "print(half_population_size)"
   ]
  },
  {
   "cell_type": "markdown",
   "metadata": {},
   "source": [
    "We can also use the same variable on both sides of an equals sign. This is conterintuitive from a mathematical perspective as we would never expect to see x = x + 5, but it's perfectly fine in programming."
   ]
  },
  {
   "cell_type": "code",
   "execution_count": 51,
   "metadata": {
    "collapsed": false
   },
   "outputs": [
    {
     "data": {
      "text/plain": [
       "15"
      ]
     },
     "execution_count": 51,
     "metadata": {},
     "output_type": "execute_result"
    }
   ],
   "source": [
    "x = 10\n",
    "x = x + 5\n",
    "x"
   ]
  },
  {
   "cell_type": "markdown",
   "metadata": {},
   "source": [
    "You can think of it as updating the value of x. In example above, we are updating x by adding 5 to it. Thus, the new value is 5 plus x’s old value"
   ]
  },
  {
   "cell_type": "markdown",
   "metadata": {},
   "source": [
    "This works because the expression on the right hand side of the equation is evaluated first. Specifically, the order of operations is:\n",
    "\n",
    "Look up the current value of x\n",
    "Add 5 to that value\n",
    "Assign the value resulting from the addition to x\n",
    "Updating the value of a variable like this is a common paradigm in programming."
   ]
  },
  {
   "cell_type": "markdown",
   "metadata": {},
   "source": [
    "## Using Built-in Functions\n",
    "\n",
    "A function is basically a complicated expression. It is a command that returns a value, but hides the details of how that value is determined. This is useful because we typically don't want to look at the details of how numbers are rounded or lists of numbers are sorted.\n",
    "\n",
    "Python has a number of built-in functions for performing common tasks. For example, if we want to determine the absolute value of a number, we use abs( )."
   ]
  },
  {
   "cell_type": "code",
   "execution_count": 54,
   "metadata": {
    "collapsed": false
   },
   "outputs": [
    {
     "data": {
      "text/plain": [
       "2"
      ]
     },
     "execution_count": 54,
     "metadata": {},
     "output_type": "execute_result"
    }
   ],
   "source": [
    "abs(-2)"
   ]
  },
  {
   "cell_type": "markdown",
   "metadata": {},
   "source": [
    "A function call is composed of two parts, the name of the function and the arguments that the function requires to calculate the value it returns. In the example above ```abs()``` is the name of the function, and -2 is the argument.\n",
    "\n",
    "Functions can take multiple arguments. For example, if we want to round pi to two decimal places we would use the round function with the arguments 3.14159 and 2, where the first argument is the number to be rounded and the second argument is the number of decimal points to round it to."
   ]
  },
  {
   "cell_type": "code",
   "execution_count": 56,
   "metadata": {
    "collapsed": false
   },
   "outputs": [
    {
     "data": {
      "text/plain": [
       "3.14"
      ]
     },
     "execution_count": 56,
     "metadata": {},
     "output_type": "execute_result"
    }
   ],
   "source": [
    "round(3.14159, 2)"
   ]
  },
  {
   "cell_type": "markdown",
   "metadata": {},
   "source": [
    "Python has lots of built-in functions including:\n",
    "\n",
    "```\n",
    "abs(): Absolutevalue\n",
    "sum(): The sum of the numbers in a list\n",
    "type(): Returns the type of a variable\n",
    "max(): The maximum value from a list\n",
    "min(): The minimum value from a list\n",
    "str(): The string version of a variable\n",
    "int(): The integer version of a variable\n",
    "float(): The floating point version of a variable\n",
    "```\n",
    "\n",
    "A full list of Python's built-in functions is available at: http://docs.python.org/library/functions.html"
   ]
  },
  {
   "cell_type": "markdown",
   "metadata": {},
   "source": [
    "### Calling functions\n",
    "\n",
    "When we call a function in a program we include it's name and the specific arguments that we want it to evaluate. The function can be used/treated just as if we had typed in the value it returned."
   ]
  },
  {
   "cell_type": "code",
   "execution_count": 57,
   "metadata": {
    "collapsed": false
   },
   "outputs": [
    {
     "data": {
      "text/plain": [
       "3"
      ]
     },
     "execution_count": 57,
     "metadata": {},
     "output_type": "execute_result"
    }
   ],
   "source": [
    "abs(-1) + 2"
   ]
  },
  {
   "cell_type": "code",
   "execution_count": 58,
   "metadata": {
    "collapsed": false
   },
   "outputs": [
    {
     "data": {
      "text/plain": [
       "3.14"
      ]
     },
     "execution_count": 58,
     "metadata": {},
     "output_type": "execute_result"
    }
   ],
   "source": [
    "pi_approx = round(3.14159, 2)\n",
    "pi_approx"
   ]
  },
  {
   "cell_type": "code",
   "execution_count": 60,
   "metadata": {
    "collapsed": false
   },
   "outputs": [
    {
     "data": {
      "text/plain": [
       "10.142"
      ]
     },
     "execution_count": 60,
     "metadata": {},
     "output_type": "execute_result"
    }
   ],
   "source": [
    "round(3.14159 + abs(-7), 3)"
   ]
  },
  {
   "cell_type": "markdown",
   "metadata": {},
   "source": [
    "## Working With String\n",
    "\n",
    "We use text all the time in science and computing to store information like:\n",
    "\n",
    "- Species names\n",
    "- Site names\n",
    "- Genetic sequences\n",
    "- Information about methods\n",
    "\n",
    "In Python we store this kind of data in strings."
   ]
  },
  {
   "cell_type": "markdown",
   "metadata": {},
   "source": [
    "### Creating strings\n",
    "\n",
    "Strings are created using either single or double quotes. It doesn't typically matter which kind of quotes you use, but they do need to match."
   ]
  },
  {
   "cell_type": "code",
   "execution_count": 63,
   "metadata": {
    "collapsed": false
   },
   "outputs": [
    {
     "name": "stdout",
     "output_type": "stream",
     "text": [
      "The phylum of Rhinecanthus rectangulus is Chordata\n"
     ]
    }
   ],
   "source": [
    "phylum = 'Chordata'\n",
    "species = \"Rhinecanthus rectangulus\"\n",
    "print \"The phylum of \" + species + \" is \" + phylum"
   ]
  },
  {
   "cell_type": "markdown",
   "metadata": {},
   "source": [
    "In the example above, the '+' sign is used to combine, or concatenate, the strings literals and variables. \n",
    "\n",
    "If we want to create a string that has multiple lines we can do this using triple quotes."
   ]
  },
  {
   "cell_type": "code",
   "execution_count": 68,
   "metadata": {
    "collapsed": false
   },
   "outputs": [
    {
     "name": "stdout",
     "output_type": "stream",
     "text": [
      "Rhinecanthus rectangulus is\n",
      "the scientific name for the \n",
      "Hawaii state fish Humuhumunukunukuapua`a \n"
     ]
    }
   ],
   "source": [
    "ds_description = \"\"\"Rhinecanthus rectangulus is\n",
    "the scientific name for the \n",
    "Hawaii state fish Humuhumunukunukuapua`a \"\"\"\n",
    "print ds_description"
   ]
  },
  {
   "cell_type": "markdown",
   "metadata": {},
   "source": [
    "### Determining the length of a string\n",
    "Python uses a single function to determine the length of most things including strings, the ```len()``` function."
   ]
  },
  {
   "cell_type": "code",
   "execution_count": 72,
   "metadata": {
    "collapsed": false
   },
   "outputs": [
    {
     "data": {
      "text/plain": [
       "22"
      ]
     },
     "execution_count": 72,
     "metadata": {},
     "output_type": "execute_result"
    }
   ],
   "source": [
    "latin_binomial = \"Pocillopora damicornis\"\n",
    "len(latin_binomial)"
   ]
  },
  {
   "cell_type": "markdown",
   "metadata": {},
   "source": [
    "You can extract a subset of your string by using the bracket notation, passing the index of the character you'd like to access. Note, however, that thee index is zero based."
   ]
  },
  {
   "cell_type": "code",
   "execution_count": 101,
   "metadata": {
    "collapsed": false
   },
   "outputs": [
    {
     "data": {
      "text/plain": [
       "'P'"
      ]
     },
     "execution_count": 101,
     "metadata": {},
     "output_type": "execute_result"
    }
   ],
   "source": [
    "latin_binomial[0]"
   ]
  },
  {
   "cell_type": "code",
   "execution_count": 102,
   "metadata": {
    "collapsed": false
   },
   "outputs": [
    {
     "data": {
      "text/plain": [
       "'i'"
      ]
     },
     "execution_count": 102,
     "metadata": {},
     "output_type": "execute_result"
    }
   ],
   "source": [
    "latin_binomial[3]"
   ]
  },
  {
   "cell_type": "markdown",
   "metadata": {},
   "source": [
    "If you need to extract a substring of your string, you need to provide the start and end indices, separated with the ```\":\"``` character"
   ]
  },
  {
   "cell_type": "code",
   "execution_count": 104,
   "metadata": {
    "collapsed": false
   },
   "outputs": [
    {
     "data": {
      "text/plain": [
       "'Pocillopora'"
      ]
     },
     "execution_count": 104,
     "metadata": {},
     "output_type": "execute_result"
    }
   ],
   "source": [
    "latin_binomial[0:11]"
   ]
  },
  {
   "cell_type": "markdown",
   "metadata": {},
   "source": [
    "Note that the ending position is not included in the returned string"
   ]
  },
  {
   "cell_type": "markdown",
   "metadata": {},
   "source": [
    "Start and end positions can be omittet, in which case Python interprets start index as 0 and ending index as string length"
   ]
  },
  {
   "cell_type": "code",
   "execution_count": 105,
   "metadata": {
    "collapsed": false
   },
   "outputs": [
    {
     "data": {
      "text/plain": [
       "'Pocillopora'"
      ]
     },
     "execution_count": 105,
     "metadata": {},
     "output_type": "execute_result"
    }
   ],
   "source": [
    "latin_binomial[:11]"
   ]
  },
  {
   "cell_type": "code",
   "execution_count": 106,
   "metadata": {
    "collapsed": false
   },
   "outputs": [
    {
     "data": {
      "text/plain": [
       "'damicornis'"
      ]
     },
     "execution_count": 106,
     "metadata": {},
     "output_type": "execute_result"
    }
   ],
   "source": [
    "latin_binomial[12:]"
   ]
  },
  {
   "cell_type": "markdown",
   "metadata": {},
   "source": [
    "You can also use a negative index to instruct the interpreter to start counting from the end of the string. Therfore, -1 is interpreted as the last character, -2 as the one before last, etc..."
   ]
  },
  {
   "cell_type": "code",
   "execution_count": 107,
   "metadata": {
    "collapsed": false
   },
   "outputs": [
    {
     "data": {
      "text/plain": [
       "'nis'"
      ]
     },
     "execution_count": 107,
     "metadata": {},
     "output_type": "execute_result"
    }
   ],
   "source": [
    "latin_binomial[-3:]"
   ]
  },
  {
   "cell_type": "code",
   "execution_count": 108,
   "metadata": {
    "collapsed": false
   },
   "outputs": [
    {
     "data": {
      "text/plain": [
       "'ni'"
      ]
     },
     "execution_count": 108,
     "metadata": {},
     "output_type": "execute_result"
    }
   ],
   "source": [
    "latin_binomial[-3:-1]"
   ]
  },
  {
   "cell_type": "markdown",
   "metadata": {},
   "source": [
    "The second index, wether postive or negative, is never included in the returned substring"
   ]
  },
  {
   "cell_type": "markdown",
   "metadata": {},
   "source": [
    "### Formatted strings\n",
    "A better way to achieve this type of output in Python is using formatted strings. Everywhere we want to place a variable or a value in the string we place a % followed by a letter that tells it how we want the information formatted (like a string, an integer, a float, etc.) then after the string we add a % and then a comma separated list of the values/variables to insert in parentheses."
   ]
  },
  {
   "cell_type": "code",
   "execution_count": 76,
   "metadata": {
    "collapsed": false
   },
   "outputs": [
    {
     "name": "stdout",
     "output_type": "stream",
     "text": [
      "The phylum of Rhinecanthus rectangulus is Chordata\n"
     ]
    }
   ],
   "source": [
    "output = \"The phylum of %s is %s\"  % (species, phylum)\n",
    "print output"
   ]
  },
  {
   "cell_type": "markdown",
   "metadata": {},
   "source": [
    "This happens because when Python encounters the apostrophy it thinks we're telling it to end the string and it doesn't understand what all of the stuff coming after the string is.\n",
    "\n",
    "To tell Python that we actually want an apostrophy we use an escape character, the \\ in this case, so instead of typing ' we type \\'"
   ]
  },
  {
   "cell_type": "markdown",
   "metadata": {},
   "source": [
    "## Collections:\n",
    "\n",
    "### Sequential types: Lists and Tuples\n",
    "\n",
    "Lists are a common data structure to hold an ordered sequence of elements. Each element can be accessed by an index. Note that Python indexes start with 0 instead of 1:\n",
    "\n"
   ]
  },
  {
   "cell_type": "code",
   "execution_count": 80,
   "metadata": {
    "collapsed": false
   },
   "outputs": [
    {
     "name": "stdout",
     "output_type": "stream",
     "text": [
      "The value of the first element in the list is 10 \n",
      "The value of the third element in the list is 1098 \n"
     ]
    }
   ],
   "source": [
    "numbers = [10, 32, 1098]\n",
    "print \"The value of the first element in the list is %s \" % numbers[0]\n",
    "print \"The value of the third element in the list is %s \" % numbers[2]\n",
    "\n"
   ]
  },
  {
   "cell_type": "markdown",
   "metadata": {},
   "source": [
    "A tuple is similar to a list in that it’s an ordered sequence of elements. However, tuples can not be changed once created (they are “immutable”). Tuples are created by placing comma-separated values inside parentheses ```()```."
   ]
  },
  {
   "cell_type": "code",
   "execution_count": 167,
   "metadata": {
    "collapsed": true
   },
   "outputs": [],
   "source": [
    "# tuples use parentheses\n",
    "a_tuple= (1, 2, 3)\n",
    "another_tuple = ('blue', 'green', 'red')\n",
    "# Note: lists use square brackets\n",
    "a_list = [101, 201, 301, 401, 501, 601, 701, 801]"
   ]
  },
  {
   "cell_type": "markdown",
   "metadata": {},
   "source": [
    "List can alsobe be indexed using the same scheme as strings. "
   ]
  },
  {
   "cell_type": "code",
   "execution_count": 168,
   "metadata": {
    "collapsed": false
   },
   "outputs": [
    {
     "data": {
      "text/plain": [
       "201"
      ]
     },
     "execution_count": 168,
     "metadata": {},
     "output_type": "execute_result"
    }
   ],
   "source": [
    "a_list[1]"
   ]
  },
  {
   "cell_type": "code",
   "execution_count": 169,
   "metadata": {
    "collapsed": false
   },
   "outputs": [
    {
     "data": {
      "text/plain": [
       "[201, 301]"
      ]
     },
     "execution_count": 169,
     "metadata": {},
     "output_type": "execute_result"
    }
   ],
   "source": [
    "a_list[1:3]"
   ]
  },
  {
   "cell_type": "code",
   "execution_count": 170,
   "metadata": {
    "collapsed": false
   },
   "outputs": [
    {
     "data": {
      "text/plain": [
       "[601, 701, 801]"
      ]
     },
     "execution_count": 170,
     "metadata": {},
     "output_type": "execute_result"
    }
   ],
   "source": [
    "a_list[-3:]"
   ]
  },
  {
   "cell_type": "code",
   "execution_count": 171,
   "metadata": {
    "collapsed": false
   },
   "outputs": [
    {
     "data": {
      "text/plain": [
       "[101, 201, 301, 401, 501, 601, 701, 801]"
      ]
     },
     "execution_count": 171,
     "metadata": {},
     "output_type": "execute_result"
    }
   ],
   "source": [
    "a_list[:]"
   ]
  },
  {
   "cell_type": "markdown",
   "metadata": {},
   "source": [
    "### Unorders collections: Dictionaries and Sets\n",
    "\n",
    "A dictionary is a container that holds pairs of objects as ```keys``` and ```values```."
   ]
  },
  {
   "cell_type": "code",
   "execution_count": 172,
   "metadata": {
    "collapsed": true
   },
   "outputs": [],
   "source": [
    "# We instantiate a dictionary with two key, values pairs\n",
    "students_ages = {'John': 32, 'Mary': 29}"
   ]
  },
  {
   "cell_type": "markdown",
   "metadata": {},
   "source": [
    "You can extract the value assigned to a key using the ```[]``` notation"
   ]
  },
  {
   "cell_type": "code",
   "execution_count": 173,
   "metadata": {
    "collapsed": false
   },
   "outputs": [
    {
     "name": "stdout",
     "output_type": "stream",
     "text": [
      "Mary's age is 29\n"
     ]
    }
   ],
   "source": [
    "print \"Mary's age is %s\" % students_ages['Mary']"
   ]
  },
  {
   "cell_type": "markdown",
   "metadata": {},
   "source": [
    "Note that we are invoking the key as a string literal (using the quotes). We can also use a variable as key to the dictionary"
   ]
  },
  {
   "cell_type": "code",
   "execution_count": 174,
   "metadata": {
    "collapsed": false
   },
   "outputs": [
    {
     "name": "stdout",
     "output_type": "stream",
     "text": [
      "John's age is 32\n"
     ]
    }
   ],
   "source": [
    "male_student = \"John\"\n",
    "print \"John's age is %s\" % students_ages[male_student]"
   ]
  },
  {
   "cell_type": "markdown",
   "metadata": {},
   "source": [
    "Dictionaries work a lot like lists - except that you index them with keys. You can think about a key as a name for or a unique identifier for a set of values in the dictionary. Keys can only have particular types. Strings and numeric types are acceptable, but lists aren’t."
   ]
  },
  {
   "cell_type": "code",
   "execution_count": 175,
   "metadata": {
    "collapsed": false
   },
   "outputs": [
    {
     "name": "stdout",
     "output_type": "stream",
     "text": [
      "mapping assigned to 1 is North\n"
     ]
    }
   ],
   "source": [
    "mapping = {1: 'North', 2: 'South', 3: 'East', 4: 'West'}\n",
    "\n",
    "print \"mapping assigned to 1 is %s\" % mapping[1]"
   ]
  },
  {
   "cell_type": "markdown",
   "metadata": {},
   "source": [
    "A set is an unordered collection of unique objects. Think of mathametical set definition."
   ]
  },
  {
   "cell_type": "code",
   "execution_count": 176,
   "metadata": {
    "collapsed": true
   },
   "outputs": [],
   "source": [
    "mySet = set()\n"
   ]
  },
  {
   "cell_type": "code",
   "execution_count": 177,
   "metadata": {
    "collapsed": false
   },
   "outputs": [
    {
     "name": "stdout",
     "output_type": "stream",
     "text": [
      "set([3])\n"
     ]
    }
   ],
   "source": [
    "mySet.add(3)\n",
    "print mySet"
   ]
  },
  {
   "cell_type": "code",
   "execution_count": 178,
   "metadata": {
    "collapsed": false
   },
   "outputs": [
    {
     "name": "stdout",
     "output_type": "stream",
     "text": [
      "set([3, 6])\n"
     ]
    }
   ],
   "source": [
    "mySet.add(6)\n",
    "print mySet"
   ]
  },
  {
   "cell_type": "code",
   "execution_count": 179,
   "metadata": {
    "collapsed": false
   },
   "outputs": [
    {
     "data": {
      "text/plain": [
       "True"
      ]
     },
     "execution_count": 179,
     "metadata": {},
     "output_type": "execute_result"
    }
   ],
   "source": [
    "6 in mySet"
   ]
  },
  {
   "cell_type": "code",
   "execution_count": 180,
   "metadata": {
    "collapsed": false
   },
   "outputs": [
    {
     "data": {
      "text/plain": [
       "False"
      ]
     },
     "execution_count": 180,
     "metadata": {},
     "output_type": "execute_result"
    }
   ],
   "source": [
    "9 in mySet"
   ]
  },
  {
   "cell_type": "markdown",
   "metadata": {},
   "source": [
    "Sets also support the fundamental math set operations (union, intersection, different)"
   ]
  },
  {
   "cell_type": "code",
   "execution_count": 181,
   "metadata": {
    "collapsed": false
   },
   "outputs": [],
   "source": [
    "set1 = set([1,2,3,4])\n",
    "set2 = set([2,4,5,6])"
   ]
  },
  {
   "cell_type": "code",
   "execution_count": 182,
   "metadata": {
    "collapsed": false
   },
   "outputs": [
    {
     "data": {
      "text/plain": [
       "{1, 2, 3, 4, 5, 6}"
      ]
     },
     "execution_count": 182,
     "metadata": {},
     "output_type": "execute_result"
    }
   ],
   "source": [
    "set1.union(set2)"
   ]
  },
  {
   "cell_type": "code",
   "execution_count": 183,
   "metadata": {
    "collapsed": false
   },
   "outputs": [
    {
     "data": {
      "text/plain": [
       "{2, 4}"
      ]
     },
     "execution_count": 183,
     "metadata": {},
     "output_type": "execute_result"
    }
   ],
   "source": [
    "set1.intersection(set2)"
   ]
  },
  {
   "cell_type": "code",
   "execution_count": 184,
   "metadata": {
    "collapsed": false
   },
   "outputs": [
    {
     "data": {
      "text/plain": [
       "{1, 3}"
      ]
     },
     "execution_count": 184,
     "metadata": {},
     "output_type": "execute_result"
    }
   ],
   "source": [
    "set1.difference(set2)"
   ]
  },
  {
   "cell_type": "code",
   "execution_count": 185,
   "metadata": {
    "collapsed": false
   },
   "outputs": [
    {
     "data": {
      "text/plain": [
       "{5, 6}"
      ]
     },
     "execution_count": 185,
     "metadata": {},
     "output_type": "execute_result"
    }
   ],
   "source": [
    "set2.difference(set1)"
   ]
  },
  {
   "cell_type": "markdown",
   "metadata": {},
   "source": [
    "## Control Structures\n",
    "# For loops\n",
    "\n",
    "One of the most powerful aspects of computer programs is their ability to perform repetion, which is the ability to do something many times. One of the main forms of repetition is the for loop, which does something a certain number of times.\n",
    "\n",
    "The most common use of for loops is to access items in a list. Python makes it easy to do this."
   ]
  },
  {
   "cell_type": "code",
   "execution_count": 186,
   "metadata": {
    "collapsed": false
   },
   "outputs": [
    {
     "name": "stdout",
     "output_type": "stream",
     "text": [
      "The value contained in x is 101\n",
      "The value contained in x is 102\n",
      "The value contained in x is 103\n"
     ]
    }
   ],
   "source": [
    "numbers = [101, 102, 103]\n",
    "for x in numbers:\n",
    "    print \"The value contained in x is %s\" % x"
   ]
  },
  {
   "cell_type": "markdown",
   "metadata": {},
   "source": [
    "The first time through the loop the first object in the list ```numbers``` is assigned to item. The second time through the loop the second object in the list is assigned to item and so on until the end of the this.\n",
    " \n",
    "Note that the print statement is indented, in comparison the the line above it. Indentation is Python way of organizing/structuring code\n",
    "\n",
    "### Range\n",
    "This most common approach to using for loops across different programming languages is to loop over a set of integers, often using those integers as indexes for items in a list. We can do this in Python using the ```range()``` function. ```range()``` generates a list of integers when given starting and ending values. The list includes the starting value and goes up to, but does not include, the end value.\n"
   ]
  },
  {
   "cell_type": "code",
   "execution_count": 187,
   "metadata": {
    "collapsed": false
   },
   "outputs": [
    {
     "data": {
      "text/plain": [
       "[1, 2, 3, 4, 5, 6, 7, 8, 9]"
      ]
     },
     "execution_count": 187,
     "metadata": {},
     "output_type": "execute_result"
    }
   ],
   "source": [
    "range(1, 10)"
   ]
  },
  {
   "cell_type": "markdown",
   "metadata": {},
   "source": [
    "If we leave out the start value then Python just assumes that it is equal to zero."
   ]
  },
  {
   "cell_type": "code",
   "execution_count": 188,
   "metadata": {
    "collapsed": false
   },
   "outputs": [
    {
     "data": {
      "text/plain": [
       "[0, 1, 2, 3, 4]"
      ]
     },
     "execution_count": 188,
     "metadata": {},
     "output_type": "execute_result"
    }
   ],
   "source": [
    "range(5)"
   ]
  },
  {
   "cell_type": "markdown",
   "metadata": {},
   "source": [
    "### Looping with Range\n",
    " \n",
    "Using range we can loop over integers/positions."
   ]
  },
  {
   "cell_type": "code",
   "execution_count": 189,
   "metadata": {
    "collapsed": false
   },
   "outputs": [
    {
     "name": "stdout",
     "output_type": "stream",
     "text": [
      "value stored in i is 0\n",
      "value stored in i is 1\n",
      "value stored in i is 2\n",
      "value stored in i is 3\n",
      "value stored in i is 4\n",
      "value stored in i is 5\n",
      "value stored in i is 6\n",
      "value stored in i is 7\n",
      "value stored in i is 8\n",
      "value stored in i is 9\n"
     ]
    }
   ],
   "source": [
    "positions = range(10)\n",
    "for i in positions:\n",
    "    print \"value stored in i is %s\" % i "
   ]
  },
  {
   "cell_type": "code",
   "execution_count": 190,
   "metadata": {
    "collapsed": false
   },
   "outputs": [
    {
     "name": "stdout",
     "output_type": "stream",
     "text": [
      "value stored in i is 0\n",
      "value stored in i is 1\n",
      "value stored in i is 2\n",
      "value stored in i is 3\n",
      "value stored in i is 4\n",
      "value stored in i is 5\n",
      "value stored in i is 6\n",
      "value stored in i is 7\n",
      "value stored in i is 8\n",
      "value stored in i is 9\n"
     ]
    }
   ],
   "source": [
    "for i in range(10):\n",
    "    print \"value stored in i is %s\" % i "
   ]
  },
  {
   "cell_type": "markdown",
   "metadata": {},
   "source": [
    "We could use this to rewrite our nobel gas program as follows:"
   ]
  },
  {
   "cell_type": "code",
   "execution_count": 191,
   "metadata": {
    "collapsed": false
   },
   "outputs": [
    {
     "name": "stdout",
     "output_type": "stream",
     "text": [
      "101 is stored in postion 0 in the nubers list\n",
      "102 is stored in postion 1 in the nubers list\n",
      "103 is stored in postion 2 in the nubers list\n"
     ]
    }
   ],
   "source": [
    "numbers = [101, 102, 103]\n",
    "for i in range(len(numbers)):\n",
    "    print \"%s is stored in postion %s in the nubers list\" % (numbers[i], i)"
   ]
  },
  {
   "cell_type": "markdown",
   "metadata": {},
   "source": [
    "When iterating over a list of tuples, you can generate the common python idom to copy all the items of the tuples to variables"
   ]
  },
  {
   "cell_type": "code",
   "execution_count": 192,
   "metadata": {
    "collapsed": false
   },
   "outputs": [
    {
     "name": "stdout",
     "output_type": "stream",
     "text": [
      "Latitute is 22.45 and longitude is -158.00\n",
      "Latitute is 21.433'N and longitude is -157.7863\n",
      "Latitute is 45.501689 and longitude is -73.567256\n"
     ]
    }
   ],
   "source": [
    "gps_coordinates = [ (\"22.45\",\"-158.00\"), (\"21.433'N\", \"-157.7863\"), (\"45.501689\", \"-73.567256\")]\n",
    "for lat, lon in gps_coordinates:\n",
    "    print \"Latitute is %s and longitude is %s\" % (lat, lon)"
   ]
  },
  {
   "cell_type": "markdown",
   "metadata": {},
   "source": [
    "Similarly, for loops can be used to iterate over keys, vals in dictionaries after returning those using the ```items()``` function"
   ]
  },
  {
   "cell_type": "code",
   "execution_count": 193,
   "metadata": {
    "collapsed": true
   },
   "outputs": [],
   "source": [
    "species_family_map = {\"Pocillopora damicornis\": \"Pocilloporidae\", \n",
    "                    \"Acanthurus triostegus\": \"Acanthuridae\", \"Euprymna scolopes\": \"Sepiolidae\"}"
   ]
  },
  {
   "cell_type": "code",
   "execution_count": 194,
   "metadata": {
    "collapsed": false
   },
   "outputs": [
    {
     "name": "stdout",
     "output_type": "stream",
     "text": [
      "Species Pocillopora damicornis is in the Pocilloporidae family\n",
      "Species Acanthurus triostegus is in the Acanthuridae family\n",
      "Species Euprymna scolopes is in the Sepiolidae family\n"
     ]
    }
   ],
   "source": [
    "for species, family in species_family_map.items():\n",
    "    print \"Species %s is in the %s family\" % (species, family)"
   ]
  },
  {
   "cell_type": "markdown",
   "metadata": {},
   "source": [
    "If statements are also used to control the flow a Python program and allow Python to take different actions, depending on one or more conditions"
   ]
  },
  {
   "cell_type": "code",
   "execution_count": 195,
   "metadata": {
    "collapsed": false
   },
   "outputs": [
    {
     "name": "stdout",
     "output_type": "stream",
     "text": [
      "done testing\n"
     ]
    }
   ],
   "source": [
    "num = 20\n",
    "if num > 100:\n",
    "    print \"%s is greater than 100\" % num\n",
    "\n",
    "print('done testing')"
   ]
  },
  {
   "cell_type": "markdown",
   "metadata": {},
   "source": [
    "If statement can also have alternative events which can be specified with else statement"
   ]
  },
  {
   "cell_type": "code",
   "execution_count": 196,
   "metadata": {
    "collapsed": false
   },
   "outputs": [
    {
     "name": "stdout",
     "output_type": "stream",
     "text": [
      "20 is smaller than 100\n",
      "done testing\n"
     ]
    }
   ],
   "source": [
    "num = 20\n",
    "\n",
    "if num > 100:\n",
    "    print \"%s is greater than 100\" % num\n",
    "else:\n",
    "    print \"%s is smaller than 100\" % num\n",
    "    \n",
    "print('done testing')"
   ]
  }
 ],
 "metadata": {
  "kernelspec": {
   "display_name": "Python 2",
   "language": "python",
   "name": "python2"
  },
  "language_info": {
   "codemirror_mode": {
    "name": "ipython",
    "version": 2
   },
   "file_extension": ".py",
   "mimetype": "text/x-python",
   "name": "python",
   "nbconvert_exporter": "python",
   "pygments_lexer": "ipython2",
   "version": "2.7.12"
  }
 },
 "nbformat": 4,
 "nbformat_minor": 2
}
